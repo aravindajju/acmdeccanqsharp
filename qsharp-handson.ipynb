{
 "cells": [
  {
   "cell_type": "markdown",
   "metadata": {},
   "source": [
    "# ACM Hyderabad Deccan - Quantum Computing Primer Workshop - Hands On\n",
    "\n",
    "\n",
    "The following are the tasks for implementing the Quantum Cicuits we've learned using Azure QDK.\n",
    "\n",
    "You will have to add the necessary code and execute the programs to complete this workshop.\n",
    "\n",
    "* Hello World\n",
    "* Basic Gates\n",
    "* Hardmard Gate\n",
    "* Bell State\n",
    "* CNOT Gate\n",
    "* Qubit Swap\n",
    "* Half-bit Adder\n",
    "\n"
   ]
  },
  {
   "cell_type": "markdown",
   "metadata": {},
   "source": [
    "## Q# Hello World\n",
    "\n",
    "This the first Q# program"
   ]
  },
  {
   "cell_type": "code",
   "execution_count": 2,
   "metadata": {},
   "outputs": [
    {
     "data": {
      "application/x-qsharp-data": "[\"SayHello\"]",
      "text/html": [
       "<ul><li>SayHello</li></ul>"
      ],
      "text/plain": [
       "SayHello"
      ]
     },
     "execution_count": 2,
     "metadata": {},
     "output_type": "execute_result"
    }
   ],
   "source": [
    "operation SayHello(name: String) : Unit {\n",
    "\n",
    "    // The following line will simply write a message to the console:\n",
    "    Message($\"Hello {name}!\");\n",
    "\n",
    "}"
   ]
  },
  {
   "cell_type": "markdown",
   "metadata": {},
   "source": [
    "Once the SayHello is compiled, please type the following in the next cell\n",
    "\n",
    "%simulate SayHello name=\"Your Name\" "
   ]
  },
  {
   "cell_type": "code",
   "execution_count": 3,
   "metadata": {
    "scrolled": true
   },
   "outputs": [
    {
     "name": "stdout",
     "output_type": "stream",
     "text": [
      "Hello Aravind Ajad!\n"
     ]
    },
    {
     "data": {
      "application/x-qsharp-data": "{\"@type\":\"tuple\"}",
      "text/plain": [
       "()"
      ]
     },
     "execution_count": 3,
     "metadata": {},
     "output_type": "execute_result"
    }
   ],
   "source": [
    "%simulate SayHello name=\"Aravind Ajad\""
   ]
  },
  {
   "cell_type": "markdown",
   "metadata": {},
   "source": [
    "## Hello Quantum Circuit\n",
    "\n",
    "Let us implement the Hello Quantum Circuit below"
   ]
  },
  {
   "cell_type": "code",
   "execution_count": 14,
   "metadata": {},
   "outputs": [
    {
     "data": {
      "application/x-qsharp-data": "[\"HelloQuantumCircuit\"]",
      "text/html": [
       "<ul><li>HelloQuantumCircuit</li></ul>"
      ],
      "text/plain": [
       "HelloQuantumCircuit"
      ]
     },
     "execution_count": 14,
     "metadata": {},
     "output_type": "execute_result"
    }
   ],
   "source": [
    "operation HelloQuantumCircuit() : Result {\n",
    "    use q = Qubit(); // Allocate a qubit in the |0⟩ state.\n",
    "    let r = M(q);    // Measure the qubit value.\n",
    "    Reset(q);\n",
    "    return r;\n",
    "}"
   ]
  },
  {
   "cell_type": "code",
   "execution_count": 15,
   "metadata": {},
   "outputs": [
    {
     "data": {
      "application/x-qsharp-data": "0",
      "text/plain": [
       "Zero"
      ]
     },
     "execution_count": 15,
     "metadata": {},
     "output_type": "execute_result"
    }
   ],
   "source": [
    "%simulate HelloQuantumCircuit"
   ]
  },
  {
   "cell_type": "markdown",
   "metadata": {},
   "source": [
    "## Hadmard Gate\n",
    "\n",
    "The H, or Hadamard creates a “Super position”. Let us implement it below"
   ]
  },
  {
   "cell_type": "code",
   "execution_count": 16,
   "metadata": {},
   "outputs": [
    {
     "data": {
      "application/x-qsharp-data": "[\"SampleQuantumRandomNumberGenerator\"]",
      "text/html": [
       "<ul><li>SampleQuantumRandomNumberGenerator</li></ul>"
      ],
      "text/plain": [
       "SampleQuantumRandomNumberGenerator"
      ]
     },
     "execution_count": 16,
     "metadata": {},
     "output_type": "execute_result"
    }
   ],
   "source": [
    "operation SampleQuantumRandomNumberGenerator() : Result {\n",
    "    use q = Qubit(); // Allocate a qubit in the |0⟩ state.\n",
    "    H(q);            // Put the qubit to superposition. It now has a 50% chance of being 0 or 1.\n",
    "    let r = M(q);    // Measure the qubit value.\n",
    "    Reset(q);\n",
    "    return r;\n",
    "}"
   ]
  },
  {
   "cell_type": "code",
   "execution_count": 17,
   "metadata": {},
   "outputs": [
    {
     "data": {
      "application/x-qsharp-data": "1",
      "text/plain": [
       "One"
      ]
     },
     "execution_count": 17,
     "metadata": {},
     "output_type": "execute_result"
    }
   ],
   "source": [
    "%simulate SampleQuantumRandomNumberGenerator"
   ]
  },
  {
   "cell_type": "markdown",
   "metadata": {},
   "source": [
    "## X-Gate"
   ]
  },
  {
   "cell_type": "code",
   "execution_count": 18,
   "metadata": {},
   "outputs": [
    {
     "data": {
      "application/x-qsharp-data": "[\"XGate\"]",
      "text/html": [
       "<ul><li>XGate</li></ul>"
      ],
      "text/plain": [
       "XGate"
      ]
     },
     "execution_count": 18,
     "metadata": {},
     "output_type": "execute_result"
    }
   ],
   "source": [
    "operation XGate() : Result {\n",
    "    use q = Qubit(); // Allocate a qubit in the |0⟩ state.\n",
    "    X(q);            // Put the qubit to superposition. It now has a 50% chance of being 0 or 1.\n",
    "    let r = M(q);    // Measure the qubit value.\n",
    "    Reset(q);\n",
    "    return r;\n",
    "}"
   ]
  },
  {
   "cell_type": "code",
   "execution_count": 20,
   "metadata": {},
   "outputs": [
    {
     "data": {
      "application/x-qsharp-data": "1",
      "text/plain": [
       "One"
      ]
     },
     "execution_count": 20,
     "metadata": {},
     "output_type": "execute_result"
    }
   ],
   "source": [
    "%simulate XGate"
   ]
  },
  {
   "cell_type": "markdown",
   "metadata": {},
   "source": [
    "## CNOT Gate\n",
    "\n",
    "CNOT Gate is an extension to NOT gate. It works based on the value of Control qubit.  Let us implement it below."
   ]
  },
  {
   "cell_type": "code",
   "execution_count": 26,
   "metadata": {},
   "outputs": [
    {
     "data": {
      "application/x-qsharp-data": "[\"CNOTGate\"]",
      "text/html": [
       "<ul><li>CNOTGate</li></ul>"
      ],
      "text/plain": [
       "CNOTGate"
      ]
     },
     "execution_count": 26,
     "metadata": {},
     "output_type": "execute_result"
    }
   ],
   "source": [
    "operation CNOTGate() : Result {\n",
    "    use q1 = Qubit(); // Allocate a qubit in the |0⟩ state.\n",
    "    use q2 = Qubit(); // Allocate a qubit in the |0⟩ state.\n",
    "    X(q1);\n",
    "    CNOT (q1, q2);\n",
    "    let r = M(q2);\n",
    "    Reset(q1);\n",
    "    Reset(q2);\n",
    "    return r;\n",
    "}"
   ]
  },
  {
   "cell_type": "code",
   "execution_count": 25,
   "metadata": {},
   "outputs": [
    {
     "data": {
      "application/x-qsharp-data": "0",
      "text/plain": [
       "Zero"
      ]
     },
     "execution_count": 25,
     "metadata": {},
     "output_type": "execute_result"
    }
   ],
   "source": [
    "%simulate CNOTGate"
   ]
  },
  {
   "cell_type": "markdown",
   "metadata": {},
   "source": [
    "## Bell State\n",
    "\n",
    "Qubit Entanglement"
   ]
  },
  {
   "cell_type": "code",
   "execution_count": null,
   "metadata": {},
   "outputs": [],
   "source": []
  },
  {
   "cell_type": "markdown",
   "metadata": {},
   "source": [
    "## Qubit Swap\n",
    "\n",
    "In Boolean this would have been done using XOR the following way.​\n",
    "\n",
    "Two bits a, b;\n",
    "\n",
    "a = a XOR b;\n",
    "\n",
    "b = b XOR a;\n",
    "\n",
    "a = a XOR b;\n",
    "\n",
    "Value of a and b are swapped.\n",
    "\n",
    "Let us implement it below."
   ]
  },
  {
   "cell_type": "code",
   "execution_count": null,
   "metadata": {},
   "outputs": [],
   "source": []
  },
  {
   "cell_type": "markdown",
   "metadata": {},
   "source": [
    "## Half-bit Adder\n",
    "\n",
    "Let us implement it below"
   ]
  },
  {
   "cell_type": "code",
   "execution_count": null,
   "metadata": {},
   "outputs": [],
   "source": []
  }
 ],
 "metadata": {
  "kernelspec": {
   "display_name": "Q#",
   "language": "qsharp",
   "name": "iqsharp"
  },
  "language_info": {
   "file_extension": ".qs",
   "mimetype": "text/x-qsharp",
   "name": "qsharp",
   "version": "0.14"
  }
 },
 "nbformat": 4,
 "nbformat_minor": 4
}
