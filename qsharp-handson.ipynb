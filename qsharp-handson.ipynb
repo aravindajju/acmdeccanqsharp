{
 "cells": [
  {
   "cell_type": "markdown",
   "metadata": {},
   "source": [
    "# ACM Hyderabad Deccan - Quantum Computing Primer Workshop - Hands On\n",
    "\n",
    "\n",
    "The following are the tasks for implementing the Quantum Cicuits we've learned using Azure QDK.\n",
    "\n",
    "You will have to add the necessary code and execute the programs to complete this workshop.\n",
    "\n",
    "* Hello World\n",
    "* Basic Gates\n",
    "* Hardmard Gate\n",
    "* Bell State\n",
    "* CNOT Gate\n",
    "* Qubit Swap\n",
    "* Half-bit Adder\n",
    "\n"
   ]
  },
  {
   "cell_type": "markdown",
   "metadata": {},
   "source": [
    "## Q# Hello World\n",
    "\n",
    "This the first Q# program"
   ]
  },
  {
   "cell_type": "code",
   "execution_count": null,
   "metadata": {},
   "outputs": [],
   "source": [
    "operation SayHello(name: String) : Unit {\n",
    "\n",
    "    // The following line will simply write a message to the console:\n",
    "    Message($\"Hello {name}!\");\n",
    "\n",
    "}"
   ]
  },
  {
   "cell_type": "markdown",
   "metadata": {},
   "source": [
    "Once the SayHello is compiled, please type the following in the next cell\n",
    "\n",
    "%simulate SayHello name=\"Your Name\" "
   ]
  },
  {
   "cell_type": "code",
   "execution_count": null,
   "metadata": {
    "scrolled": true
   },
   "outputs": [],
   "source": [
    "%simulate SayHello name=\"Aravind Ajad\""
   ]
  },
  {
   "cell_type": "markdown",
   "metadata": {},
   "source": [
    "## Hello Quantum Circuit\n",
    "\n",
    "Let us implement the Hello Quantum Circuit below"
   ]
  },
  {
   "cell_type": "code",
   "execution_count": null,
   "metadata": {},
   "outputs": [],
   "source": [
    "operation HelloQuantumCircuit(name: String) : Unit {\n",
    "\n",
    "    // The following line will simply write a message to the console:\n",
    "    Message($\"Hello {name}!\");\n",
    "\n",
    "}"
   ]
  },
  {
   "cell_type": "markdown",
   "metadata": {},
   "source": [
    "## Hadmard Gate\n",
    "\n",
    "The H, or Hadamard creates a “Super position”. Let us implement it below"
   ]
  },
  {
   "cell_type": "code",
   "execution_count": null,
   "metadata": {},
   "outputs": [],
   "source": []
  },
  {
   "cell_type": "markdown",
   "metadata": {},
   "source": [
    "## X-Gate"
   ]
  },
  {
   "cell_type": "code",
   "execution_count": null,
   "metadata": {},
   "outputs": [],
   "source": []
  },
  {
   "cell_type": "markdown",
   "metadata": {},
   "source": [
    "## CNOT Gate\n",
    "\n",
    "CNOT Gate is an extension to NOT gate. It works based on the value of Control qubit.  Let us implement it below."
   ]
  },
  {
   "cell_type": "code",
   "execution_count": null,
   "metadata": {},
   "outputs": [],
   "source": []
  },
  {
   "cell_type": "markdown",
   "metadata": {},
   "source": [
    "## Bell State\n",
    "\n",
    "Qubit Entanglement"
   ]
  },
  {
   "cell_type": "code",
   "execution_count": null,
   "metadata": {},
   "outputs": [],
   "source": []
  },
  {
   "attachments": {},
   "cell_type": "markdown",
   "metadata": {},
   "source": [
    "## Qubit Swap\n",
    "\n",
    "In Boolean this would have been done using XOR the following way.​\n",
    "\n",
    "Two bits a, b;\n",
    "\n",
    "a = a XOR b;\n",
    "\n",
    "b = b XOR a;\n",
    "\n",
    "a = a XOR b;\n",
    "\n",
    "Value of a and b are swapped.\n",
    "\n",
    "Let us implement it below."
   ]
  },
  {
   "cell_type": "code",
   "execution_count": null,
   "metadata": {},
   "outputs": [],
   "source": []
  },
  {
   "cell_type": "markdown",
   "metadata": {},
   "source": [
    "## Half-bit Adder\n",
    "\n",
    "Let us implement it below"
   ]
  },
  {
   "cell_type": "code",
   "execution_count": null,
   "metadata": {},
   "outputs": [],
   "source": []
  }
 ],
 "metadata": {
  "kernelspec": {
   "display_name": "Q#",
   "language": "qsharp",
   "name": "iqsharp"
  },
  "language_info": {
   "file_extension": ".qs",
   "mimetype": "text/x-qsharp",
   "name": "qsharp",
   "version": "0.12"
  }
 },
 "nbformat": 4,
 "nbformat_minor": 4
}